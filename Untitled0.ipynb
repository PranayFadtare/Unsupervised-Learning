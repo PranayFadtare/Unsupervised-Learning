{
  "cells": [
    {
      "cell_type": "code",
      "execution_count": null,
      "metadata": {
        "colab": {
          "base_uri": "https://localhost:8080/"
        },
        "id": "wbZdh4oQP_Vb",
        "outputId": "53b60261-5a8d-4703-cdc5-3d7f8c4191d7"
      },
      "outputs": [
        {
          "output_type": "stream",
          "name": "stdout",
          "text": [
            "Collecting chart-studio\n",
            "  Downloading chart_studio-1.1.0-py3-none-any.whl.metadata (1.3 kB)\n",
            "Requirement already satisfied: plotly in /usr/local/lib/python3.10/dist-packages (from chart-studio) (5.24.1)\n",
            "Requirement already satisfied: requests in /usr/local/lib/python3.10/dist-packages (from chart-studio) (2.32.3)\n",
            "Collecting retrying>=1.3.3 (from chart-studio)\n",
            "  Downloading retrying-1.3.4-py3-none-any.whl.metadata (6.9 kB)\n",
            "Requirement already satisfied: six in /usr/local/lib/python3.10/dist-packages (from chart-studio) (1.16.0)\n",
            "Requirement already satisfied: tenacity>=6.2.0 in /usr/local/lib/python3.10/dist-packages (from plotly->chart-studio) (9.0.0)\n",
            "Requirement already satisfied: packaging in /usr/local/lib/python3.10/dist-packages (from plotly->chart-studio) (24.2)\n",
            "Requirement already satisfied: charset-normalizer<4,>=2 in /usr/local/lib/python3.10/dist-packages (from requests->chart-studio) (3.4.0)\n",
            "Requirement already satisfied: idna<4,>=2.5 in /usr/local/lib/python3.10/dist-packages (from requests->chart-studio) (3.10)\n",
            "Requirement already satisfied: urllib3<3,>=1.21.1 in /usr/local/lib/python3.10/dist-packages (from requests->chart-studio) (2.2.3)\n",
            "Requirement already satisfied: certifi>=2017.4.17 in /usr/local/lib/python3.10/dist-packages (from requests->chart-studio) (2024.8.30)\n",
            "Downloading chart_studio-1.1.0-py3-none-any.whl (64 kB)\n",
            "\u001b[?25l   \u001b[90m━━━━━━━━━━━━━━━━━━━━━━━━━━━━━━━━━━━━━━━━\u001b[0m \u001b[32m0.0/64.4 kB\u001b[0m \u001b[31m?\u001b[0m eta \u001b[36m-:--:--\u001b[0m\r\u001b[2K   \u001b[90m━━━━━━━━━━━━━━━━━━━━━━━━━━━━━━━━━━━━━━━━\u001b[0m \u001b[32m64.4/64.4 kB\u001b[0m \u001b[31m3.5 MB/s\u001b[0m eta \u001b[36m0:00:00\u001b[0m\n",
            "\u001b[?25hDownloading retrying-1.3.4-py3-none-any.whl (11 kB)\n",
            "Installing collected packages: retrying, chart-studio\n",
            "Successfully installed chart-studio-1.1.0 retrying-1.3.4\n"
          ]
        }
      ],
      "source": [
        "pip install chart-studio\n"
      ]
    },
    {
      "cell_type": "code",
      "execution_count": null,
      "metadata": {
        "id": "AJS_KX_6QKY7"
      },
      "outputs": [],
      "source": [
        "# @title\n",
        "import chart_studio\n",
        "\n"
      ]
    },
    {
      "cell_type": "code",
      "execution_count": null,
      "metadata": {
        "id": "oZ8oc6MGQO1u"
      },
      "outputs": [],
      "source": [
        "# imports\n",
        "import chart_studio\n",
        "import plotly.express as px\n",
        "import pandas as pd\n",
        "import numpy as np\n",
        "from google.colab import files\n"
      ]
    },
    {
      "cell_type": "code",
      "execution_count": null,
      "metadata": {
        "id": "TeW6sSv3RBE1"
      },
      "outputs": [],
      "source": [
        "import chart_studio  # Import Chart Studio for connecting to Plotly's online chart studio\n",
        "\n",
        "# Set your Chart Studio username and API key\n",
        "username = 'pranay777'\n",
        "api_key = 'XT6nm1Hb4xFrcucT8k0g'\n",
        "\n",
        "# Set Chart Studio credentials\n",
        "chart_studio.tools.set_credentials_file(username=username, api_key=api_key)\n"
      ]
    },
    {
      "cell_type": "code",
      "execution_count": null,
      "metadata": {
        "colab": {
          "base_uri": "https://localhost:8080/",
          "height": 90
        },
        "id": "nvwQurLwRJEE",
        "outputId": "3a4723f9-3a6e-42d2-e994-c70b82ca29d8"
      },
      "outputs": [
        {
          "output_type": "display_data",
          "data": {
            "text/plain": [
              "<IPython.core.display.HTML object>"
            ],
            "text/html": [
              "\n",
              "     <input type=\"file\" id=\"files-db1f5b40-40f0-40a7-86da-84fc8cf9c52f\" name=\"files[]\" multiple disabled\n",
              "        style=\"border:none\" />\n",
              "     <output id=\"result-db1f5b40-40f0-40a7-86da-84fc8cf9c52f\">\n",
              "      Upload widget is only available when the cell has been executed in the\n",
              "      current browser session. Please rerun this cell to enable.\n",
              "      </output>\n",
              "      <script>// Copyright 2017 Google LLC\n",
              "//\n",
              "// Licensed under the Apache License, Version 2.0 (the \"License\");\n",
              "// you may not use this file except in compliance with the License.\n",
              "// You may obtain a copy of the License at\n",
              "//\n",
              "//      http://www.apache.org/licenses/LICENSE-2.0\n",
              "//\n",
              "// Unless required by applicable law or agreed to in writing, software\n",
              "// distributed under the License is distributed on an \"AS IS\" BASIS,\n",
              "// WITHOUT WARRANTIES OR CONDITIONS OF ANY KIND, either express or implied.\n",
              "// See the License for the specific language governing permissions and\n",
              "// limitations under the License.\n",
              "\n",
              "/**\n",
              " * @fileoverview Helpers for google.colab Python module.\n",
              " */\n",
              "(function(scope) {\n",
              "function span(text, styleAttributes = {}) {\n",
              "  const element = document.createElement('span');\n",
              "  element.textContent = text;\n",
              "  for (const key of Object.keys(styleAttributes)) {\n",
              "    element.style[key] = styleAttributes[key];\n",
              "  }\n",
              "  return element;\n",
              "}\n",
              "\n",
              "// Max number of bytes which will be uploaded at a time.\n",
              "const MAX_PAYLOAD_SIZE = 100 * 1024;\n",
              "\n",
              "function _uploadFiles(inputId, outputId) {\n",
              "  const steps = uploadFilesStep(inputId, outputId);\n",
              "  const outputElement = document.getElementById(outputId);\n",
              "  // Cache steps on the outputElement to make it available for the next call\n",
              "  // to uploadFilesContinue from Python.\n",
              "  outputElement.steps = steps;\n",
              "\n",
              "  return _uploadFilesContinue(outputId);\n",
              "}\n",
              "\n",
              "// This is roughly an async generator (not supported in the browser yet),\n",
              "// where there are multiple asynchronous steps and the Python side is going\n",
              "// to poll for completion of each step.\n",
              "// This uses a Promise to block the python side on completion of each step,\n",
              "// then passes the result of the previous step as the input to the next step.\n",
              "function _uploadFilesContinue(outputId) {\n",
              "  const outputElement = document.getElementById(outputId);\n",
              "  const steps = outputElement.steps;\n",
              "\n",
              "  const next = steps.next(outputElement.lastPromiseValue);\n",
              "  return Promise.resolve(next.value.promise).then((value) => {\n",
              "    // Cache the last promise value to make it available to the next\n",
              "    // step of the generator.\n",
              "    outputElement.lastPromiseValue = value;\n",
              "    return next.value.response;\n",
              "  });\n",
              "}\n",
              "\n",
              "/**\n",
              " * Generator function which is called between each async step of the upload\n",
              " * process.\n",
              " * @param {string} inputId Element ID of the input file picker element.\n",
              " * @param {string} outputId Element ID of the output display.\n",
              " * @return {!Iterable<!Object>} Iterable of next steps.\n",
              " */\n",
              "function* uploadFilesStep(inputId, outputId) {\n",
              "  const inputElement = document.getElementById(inputId);\n",
              "  inputElement.disabled = false;\n",
              "\n",
              "  const outputElement = document.getElementById(outputId);\n",
              "  outputElement.innerHTML = '';\n",
              "\n",
              "  const pickedPromise = new Promise((resolve) => {\n",
              "    inputElement.addEventListener('change', (e) => {\n",
              "      resolve(e.target.files);\n",
              "    });\n",
              "  });\n",
              "\n",
              "  const cancel = document.createElement('button');\n",
              "  inputElement.parentElement.appendChild(cancel);\n",
              "  cancel.textContent = 'Cancel upload';\n",
              "  const cancelPromise = new Promise((resolve) => {\n",
              "    cancel.onclick = () => {\n",
              "      resolve(null);\n",
              "    };\n",
              "  });\n",
              "\n",
              "  // Wait for the user to pick the files.\n",
              "  const files = yield {\n",
              "    promise: Promise.race([pickedPromise, cancelPromise]),\n",
              "    response: {\n",
              "      action: 'starting',\n",
              "    }\n",
              "  };\n",
              "\n",
              "  cancel.remove();\n",
              "\n",
              "  // Disable the input element since further picks are not allowed.\n",
              "  inputElement.disabled = true;\n",
              "\n",
              "  if (!files) {\n",
              "    return {\n",
              "      response: {\n",
              "        action: 'complete',\n",
              "      }\n",
              "    };\n",
              "  }\n",
              "\n",
              "  for (const file of files) {\n",
              "    const li = document.createElement('li');\n",
              "    li.append(span(file.name, {fontWeight: 'bold'}));\n",
              "    li.append(span(\n",
              "        `(${file.type || 'n/a'}) - ${file.size} bytes, ` +\n",
              "        `last modified: ${\n",
              "            file.lastModifiedDate ? file.lastModifiedDate.toLocaleDateString() :\n",
              "                                    'n/a'} - `));\n",
              "    const percent = span('0% done');\n",
              "    li.appendChild(percent);\n",
              "\n",
              "    outputElement.appendChild(li);\n",
              "\n",
              "    const fileDataPromise = new Promise((resolve) => {\n",
              "      const reader = new FileReader();\n",
              "      reader.onload = (e) => {\n",
              "        resolve(e.target.result);\n",
              "      };\n",
              "      reader.readAsArrayBuffer(file);\n",
              "    });\n",
              "    // Wait for the data to be ready.\n",
              "    let fileData = yield {\n",
              "      promise: fileDataPromise,\n",
              "      response: {\n",
              "        action: 'continue',\n",
              "      }\n",
              "    };\n",
              "\n",
              "    // Use a chunked sending to avoid message size limits. See b/62115660.\n",
              "    let position = 0;\n",
              "    do {\n",
              "      const length = Math.min(fileData.byteLength - position, MAX_PAYLOAD_SIZE);\n",
              "      const chunk = new Uint8Array(fileData, position, length);\n",
              "      position += length;\n",
              "\n",
              "      const base64 = btoa(String.fromCharCode.apply(null, chunk));\n",
              "      yield {\n",
              "        response: {\n",
              "          action: 'append',\n",
              "          file: file.name,\n",
              "          data: base64,\n",
              "        },\n",
              "      };\n",
              "\n",
              "      let percentDone = fileData.byteLength === 0 ?\n",
              "          100 :\n",
              "          Math.round((position / fileData.byteLength) * 100);\n",
              "      percent.textContent = `${percentDone}% done`;\n",
              "\n",
              "    } while (position < fileData.byteLength);\n",
              "  }\n",
              "\n",
              "  // All done.\n",
              "  yield {\n",
              "    response: {\n",
              "      action: 'complete',\n",
              "    }\n",
              "  };\n",
              "}\n",
              "\n",
              "scope.google = scope.google || {};\n",
              "scope.google.colab = scope.google.colab || {};\n",
              "scope.google.colab._files = {\n",
              "  _uploadFiles,\n",
              "  _uploadFilesContinue,\n",
              "};\n",
              "})(self);\n",
              "</script> "
            ]
          },
          "metadata": {}
        },
        {
          "output_type": "stream",
          "name": "stdout",
          "text": [
            "Saving Human_emotions_classification.xlsx to Human_emotions_classification.xlsx\n"
          ]
        }
      ],
      "source": [
        "# File Upload\n",
        "input_file = files.upload()\n",
        "# read uploaded file as a dataframe\n",
        "df = pd.read_excel(\"Human_emotions_classification.xlsx\")\n",
        "# Check data\n",
        "df.head(10)\n",
        "# Add blank new column called Emotion. Only required for the visual aesthetic.\n",
        "df['Emotion'] = \" \" #there is one space"
      ]
    },
    {
      "cell_type": "code",
      "execution_count": null,
      "metadata": {
        "colab": {
          "base_uri": "https://localhost:8080/",
          "height": 542
        },
        "id": "1rr2tBx7TyiJ",
        "outputId": "3423986e-067d-4ee1-a507-92e23c3edd48"
      },
      "outputs": [
        {
          "output_type": "display_data",
          "data": {
            "text/html": [
              "<html>\n",
              "<head><meta charset=\"utf-8\" /></head>\n",
              "<body>\n",
              "    <div>            <script src=\"https://cdnjs.cloudflare.com/ajax/libs/mathjax/2.7.5/MathJax.js?config=TeX-AMS-MML_SVG\"></script><script type=\"text/javascript\">if (window.MathJax && window.MathJax.Hub && window.MathJax.Hub.Config) {window.MathJax.Hub.Config({SVG: {font: \"STIX-Web\"}});}</script>                <script type=\"text/javascript\">window.PlotlyConfig = {MathJaxConfig: 'local'};</script>\n",
              "        <script charset=\"utf-8\" src=\"https://cdn.plot.ly/plotly-2.35.2.min.js\"></script>                <div id=\"b11a1cfc-5d10-4dfa-92b9-21b9a150d0e7\" class=\"plotly-graph-div\" style=\"height:525px; width:100%;\"></div>            <script type=\"text/javascript\">                                    window.PLOTLYENV=window.PLOTLYENV || {};                                    if (document.getElementById(\"b11a1cfc-5d10-4dfa-92b9-21b9a150d0e7\")) {                    Plotly.newPlot(                        \"b11a1cfc-5d10-4dfa-92b9-21b9a150d0e7\",                        [{\"branchvalues\":\"total\",\"domain\":{\"x\":[0.0,1.0],\"y\":[0.0,1.0]},\"hovertemplate\":\"labels=%{label}\\u003cbr\\u003ecount=%{value}\\u003cbr\\u003eparent=%{parent}\\u003cbr\\u003eid=%{id}\\u003cextra\\u003e\\u003c\\u002fextra\\u003e\",\"ids\":[\" \\u002fLove\\u002fAffection\\u002fAdoration\",\" \\u002fAnger\\u002fIrritability\\u002fAggravation\",\" \\u002fAnger\\u002fIrritability\\u002fAgitation\",\" \\u002fSadness\\u002fSuffering\\u002fAgony\",\" \\u002fFear\\u002fHorror\\u002fAlarm\",\" \\u002fSadness\\u002fNeglect\\u002fAlienation\",\" \\u002fSurprise\\u002fAmazed\\u002fAmazement\",\" \\u002fJoy\\u002fCheerfulness\\u002fAmusement\",\" \\u002fAnger\\u002fRage\\u002fAnger\",\" \\u002fSadness\\u002fSuffering\\u002fAnguish\",\" \\u002fAnger\\u002fIrritability\\u002fAnnoyance\",\" \\u002fFear\\u002fNervousness\\u002fAnxiety\",\" \\u002fFear\\u002fNervousness\\u002fApprehension (fear)\",\" \\u002fSurprise\\u002fAmazed\\u002fAstonishment\",\" \\u002fSurprise\\u002fOvercome\\u002fAstonishment\",\" \\u002fLove\\u002fAffection\\u002fAttraction\",\" \\u002fAnger\\u002fRage\\u002fBitterness\",\" \\u002fJoy\\u002fCheerfulness\\u002fBliss\",\" \\u002fLove\\u002fAffection\\u002fCaring\",\" \\u002fLove\\u002fAffection\\u002fCompassion\",\" \\u002fAnger\\u002fDisgust\\u002fContempt\",\" \\u002fAnger\\u002fIrritability\\u002fCrosspatch\",\" \\u002fSadness\\u002fNeglect\\u002fDefeatism\",\" \\u002fSadness\\u002fNeglect\\u002fDejection\",\" \\u002fJoy\\u002fCheerfulness\\u002fDelight\",\" \\u002fSadness\\u002fSadness\\u002fDepression\",\" \\u002fLove\\u002fLust\\u002fDesire\",\" \\u002fSadness\\u002fSadness\\u002fDespair\",\" \\u002fAnger\\u002fRage\\u002fDislike\",\" \\u002fSadness\\u002fDisappointment\\u002fDismay\",\" \\u002fSadness\\u002fDisappointment\\u002fDispleasure\",\" \\u002fFear\\u002fNervousness\\u002fDistress\",\" \\u002fFear\\u002fNervousness\\u002fDread\",\" \\u002fLove\\u002fLonging\\u002fEagerness\",\" \\u002fJoy\\u002fOptimism\\u002fEagerness\",\" \\u002fJoy\\u002fCheerfulness\\u002fEcstasy\",\" \\u002fJoy\\u002fCheerfulness\\u002fElation\",\" \\u002fSadness\\u002fNeglect\\u002fEmbarrassment\",\" \\u002fJoy\\u002fCheerfulness\\u002fEnjoyment\",\" \\u002fJoy\\u002fEnthrallment\\u002fEnthrallment\",\" \\u002fJoy\\u002fZest\\u002fEnthusiasm\",\" \\u002fJoy\\u002fCheerfulness\\u002fEuphoria\",\" \\u002fJoy\\u002fZest\\u002fExcitement\",\" \\u002fJoy\\u002fZest\\u002fExhilaration\",\" \\u002fFear\\u002fHorror\\u002fFear\",\" \\u002fAnger\\u002fRage\\u002fFerocity\",\" \\u002fLove\\u002fAffection\\u002fFondness\",\" \\u002fFear\\u002fHorror\\u002fFright\",\" \\u002fAnger\\u002fExasperation\\u002fFrustration\",\" \\u002fAnger\\u002fRage\\u002fFury\",\" \\u002fJoy\\u002fCheerfulness\\u002fGaiety\",\" \\u002fJoy\\u002fCheerfulness\\u002fGladness\",\" \\u002fJoy\\u002fCheerfulness\\u002fGlee\",\" \\u002fSadness\\u002fSadness\\u002fGloom\",\" \\u002fSadness\\u002fSadness\\u002fGlumness\",\" \\u002fSadness\\u002fSadness\\u002fGrief\",\" \\u002fAnger\\u002fIrritability\\u002fGrouchy\",\" \\u002fAnger\\u002fIrritability\\u002fGrumpy\",\" \\u002fSadness\\u002fShame\\u002fGuilt\",\" \\u002fJoy\\u002fCheerfulness\\u002fHappiness\",\" \\u002fAnger\\u002fRage\\u002fHatred\",\" \\u002fSadness\\u002fNeglect\\u002fHomesickness\",\" \\u002fJoy\\u002fOptimism\\u002fHope\",\" \\u002fFear\\u002fHorror\\u002fHorror\",\" \\u002fAnger\\u002fRage\\u002fHostility\",\" \\u002fSadness\\u002fNeglect\\u002fHumiliation\",\" \\u002fSadness\\u002fSuffering\\u002fHurt\",\" \\u002fFear\\u002fHorror\\u002fHysteria\",\" \\u002fLove\\u002fLust\\u002fInfatuation\",\" \\u002fSadness\\u002fNeglect\\u002fInsecurity\",\" \\u002fSadness\\u002fNeglect\\u002fInsult\",\" \\u002fSadness\\u002fNeglect\\u002fIsolation\",\" \\u002fAnger\\u002fEnvy\\u002fJealousy\",\" \\u002fJoy\\u002fCheerfulness\\u002fJolliness\",\" \\u002fJoy\\u002fCheerfulness\\u002fJoviality\",\" \\u002fJoy\\u002fCheerfulness\\u002fJoy\",\" \\u002fJoy\\u002fCheerfulness\\u002fJubilation\",\" \\u002fLove\\u002fAffection\\u002fLiking\",\" \\u002fAnger\\u002fDisgust\\u002fLoathing\",\" \\u002fSadness\\u002fNeglect\\u002fLoneliness\",\" \\u002fSadness\\u002fSadness\\u002fMelancholy\",\" \\u002fSadness\\u002fSadness\\u002fMisery\",\" \\u002fSadness\\u002fSympathy\\u002fMono no aware\",\" \\u002fFear\\u002fHorror\\u002fMortification\",\" \\u002fAnger\\u002fRage\\u002fOutrage\",\" \\u002fFear\\u002fHorror\\u002fPanic\",\" \\u002fLove\\u002fLust\\u002fPassion\",\" \\u002fSadness\\u002fSympathy\\u002fPity\",\" \\u002fJoy\\u002fContentment\\u002fPleasure\",\" \\u002fJoy\\u002fEnthrallment\\u002fRapture\",\" \\u002fSadness\\u002fShame\\u002fRegret\",\" \\u002fSadness\\u002fNeglect\\u002fRejection\",\" \\u002fJoy\\u002fRelief\\u002fRelief\",\" \\u002fSadness\\u002fShame\\u002fRemorse\",\" \\u002fAnger\\u002fRage\\u002fResentment\",\" \\u002fAnger\\u002fDisgust\\u002fRevulsion\",\" \\u002fJoy\\u002fCheerfulness\\u002fSatisfaction\",\" \\u002fAnger\\u002fRage\\u002fScorn\",\" \\u002fLove\\u002fAffection\\u002fSentimentality\",\" \\u002fFear\\u002fHorror\\u002fShock\",\" \\u002fSadness\\u002fSadness\\u002fSorrow\",\" \\u002fSurprise\\u002fOvercome\\u002fSpeechless\",\" \\u002fAnger\\u002fRage\\u002fSpite\",\" \\u002fFear\\u002fNervousness\\u002fSuspense\",\" \\u002fSadness\\u002fSympathy\\u002fSympathy\",\" \\u002fLove\\u002fAffection\\u002fTenderness\",\" \\u002fFear\\u002fHorror\\u002fTerror\",\" \\u002fJoy\\u002fZest\\u002fThrill\",\" \\u002fAnger\\u002fTorment\\u002fTorment\",\" \\u002fJoy\\u002fPride\\u002fTriumph\",\" \\u002fFear\\u002fNervousness\\u002fUneasiness\",\" \\u002fSadness\\u002fSadness\\u002fUnhappiness\",\" \\u002fAnger\\u002fRage\\u002fVengefulness\",\" \\u002fSadness\\u002fSadness\\u002fWoe\",\" \\u002fFear\\u002fNervousness\\u002fWorry\",\" \\u002fAnger\\u002fRage\\u002fWrath\",\" \\u002fLove\\u002fLonging\\u002fYearning\",\" \\u002fJoy\\u002fZest\\u002fZeal\",\" \\u002fLove\\u002fAffection\",\" \\u002fSurprise\\u002fAmazed\",\" \\u002fJoy\\u002fCheerfulness\",\" \\u002fJoy\\u002fContentment\",\" \\u002fSadness\\u002fDisappointment\",\" \\u002fAnger\\u002fDisgust\",\" \\u002fJoy\\u002fEnthrallment\",\" \\u002fAnger\\u002fEnvy\",\" \\u002fAnger\\u002fExasperation\",\" \\u002fFear\\u002fHorror\",\" \\u002fAnger\\u002fIrritability\",\" \\u002fLove\\u002fLonging\",\" \\u002fLove\\u002fLust\",\" \\u002fSadness\\u002fNeglect\",\" \\u002fFear\\u002fNervousness\",\" \\u002fJoy\\u002fOptimism\",\" \\u002fSurprise\\u002fOvercome\",\" \\u002fJoy\\u002fPride\",\" \\u002fAnger\\u002fRage\",\" \\u002fJoy\\u002fRelief\",\" \\u002fSadness\\u002fSadness\",\" \\u002fSadness\\u002fShame\",\" \\u002fSadness\\u002fSuffering\",\" \\u002fSadness\\u002fSympathy\",\" \\u002fAnger\\u002fTorment\",\" \\u002fJoy\\u002fZest\",\" \\u002fAnger\",\" \\u002fFear\",\" \\u002fJoy\",\" \\u002fLove\",\" \\u002fSadness\",\" \\u002fSurprise\",\" \"],\"labels\":[\"Adoration\",\"Aggravation\",\"Agitation\",\"Agony\",\"Alarm\",\"Alienation\",\"Amazement\",\"Amusement\",\"Anger\",\"Anguish\",\"Annoyance\",\"Anxiety\",\"Apprehension (fear)\",\"Astonishment\",\"Astonishment\",\"Attraction\",\"Bitterness\",\"Bliss\",\"Caring\",\"Compassion\",\"Contempt\",\"Crosspatch\",\"Defeatism\",\"Dejection\",\"Delight\",\"Depression\",\"Desire\",\"Despair\",\"Dislike\",\"Dismay\",\"Displeasure\",\"Distress\",\"Dread\",\"Eagerness\",\"Eagerness\",\"Ecstasy\",\"Elation\",\"Embarrassment\",\"Enjoyment\",\"Enthrallment\",\"Enthusiasm\",\"Euphoria\",\"Excitement\",\"Exhilaration\",\"Fear\",\"Ferocity\",\"Fondness\",\"Fright\",\"Frustration\",\"Fury\",\"Gaiety\",\"Gladness\",\"Glee\",\"Gloom\",\"Glumness\",\"Grief\",\"Grouchy\",\"Grumpy\",\"Guilt\",\"Happiness\",\"Hatred\",\"Homesickness\",\"Hope\",\"Horror\",\"Hostility\",\"Humiliation\",\"Hurt\",\"Hysteria\",\"Infatuation\",\"Insecurity\",\"Insult\",\"Isolation\",\"Jealousy\",\"Jolliness\",\"Joviality\",\"Joy\",\"Jubilation\",\"Liking\",\"Loathing\",\"Loneliness\",\"Melancholy\",\"Misery\",\"Mono no aware\",\"Mortification\",\"Outrage\",\"Panic\",\"Passion\",\"Pity\",\"Pleasure\",\"Rapture\",\"Regret\",\"Rejection\",\"Relief\",\"Remorse\",\"Resentment\",\"Revulsion\",\"Satisfaction\",\"Scorn\",\"Sentimentality\",\"Shock\",\"Sorrow\",\"Speechless\",\"Spite\",\"Suspense\",\"Sympathy\",\"Tenderness\",\"Terror\",\"Thrill\",\"Torment\",\"Triumph\",\"Uneasiness\",\"Unhappiness\",\"Vengefulness\",\"Woe\",\"Worry\",\"Wrath\",\"Yearning\",\"Zeal\",\"Affection\",\"Amazed\",\"Cheerfulness\",\"Contentment\",\"Disappointment\",\"Disgust\",\"Enthrallment\",\"Envy\",\"Exasperation\",\"Horror\",\"Irritability\",\"Longing\",\"Lust\",\"Neglect\",\"Nervousness\",\"Optimism\",\"Overcome\",\"Pride\",\"Rage\",\"Relief\",\"Sadness\",\"Shame\",\"Suffering\",\"Sympathy\",\"Torment\",\"Zest\",\"Anger\",\"Fear\",\"Joy\",\"Love\",\"Sadness\",\"Surprise\",\" \"],\"name\":\"\",\"parents\":[\" \\u002fLove\\u002fAffection\",\" \\u002fAnger\\u002fIrritability\",\" \\u002fAnger\\u002fIrritability\",\" \\u002fSadness\\u002fSuffering\",\" \\u002fFear\\u002fHorror\",\" \\u002fSadness\\u002fNeglect\",\" \\u002fSurprise\\u002fAmazed\",\" \\u002fJoy\\u002fCheerfulness\",\" \\u002fAnger\\u002fRage\",\" \\u002fSadness\\u002fSuffering\",\" \\u002fAnger\\u002fIrritability\",\" \\u002fFear\\u002fNervousness\",\" \\u002fFear\\u002fNervousness\",\" \\u002fSurprise\\u002fAmazed\",\" \\u002fSurprise\\u002fOvercome\",\" \\u002fLove\\u002fAffection\",\" \\u002fAnger\\u002fRage\",\" \\u002fJoy\\u002fCheerfulness\",\" \\u002fLove\\u002fAffection\",\" \\u002fLove\\u002fAffection\",\" \\u002fAnger\\u002fDisgust\",\" \\u002fAnger\\u002fIrritability\",\" \\u002fSadness\\u002fNeglect\",\" \\u002fSadness\\u002fNeglect\",\" \\u002fJoy\\u002fCheerfulness\",\" \\u002fSadness\\u002fSadness\",\" \\u002fLove\\u002fLust\",\" \\u002fSadness\\u002fSadness\",\" \\u002fAnger\\u002fRage\",\" \\u002fSadness\\u002fDisappointment\",\" \\u002fSadness\\u002fDisappointment\",\" \\u002fFear\\u002fNervousness\",\" \\u002fFear\\u002fNervousness\",\" \\u002fLove\\u002fLonging\",\" \\u002fJoy\\u002fOptimism\",\" \\u002fJoy\\u002fCheerfulness\",\" \\u002fJoy\\u002fCheerfulness\",\" \\u002fSadness\\u002fNeglect\",\" \\u002fJoy\\u002fCheerfulness\",\" \\u002fJoy\\u002fEnthrallment\",\" \\u002fJoy\\u002fZest\",\" \\u002fJoy\\u002fCheerfulness\",\" \\u002fJoy\\u002fZest\",\" \\u002fJoy\\u002fZest\",\" \\u002fFear\\u002fHorror\",\" \\u002fAnger\\u002fRage\",\" \\u002fLove\\u002fAffection\",\" \\u002fFear\\u002fHorror\",\" \\u002fAnger\\u002fExasperation\",\" \\u002fAnger\\u002fRage\",\" \\u002fJoy\\u002fCheerfulness\",\" \\u002fJoy\\u002fCheerfulness\",\" \\u002fJoy\\u002fCheerfulness\",\" \\u002fSadness\\u002fSadness\",\" \\u002fSadness\\u002fSadness\",\" \\u002fSadness\\u002fSadness\",\" \\u002fAnger\\u002fIrritability\",\" \\u002fAnger\\u002fIrritability\",\" \\u002fSadness\\u002fShame\",\" \\u002fJoy\\u002fCheerfulness\",\" \\u002fAnger\\u002fRage\",\" \\u002fSadness\\u002fNeglect\",\" \\u002fJoy\\u002fOptimism\",\" \\u002fFear\\u002fHorror\",\" \\u002fAnger\\u002fRage\",\" \\u002fSadness\\u002fNeglect\",\" \\u002fSadness\\u002fSuffering\",\" \\u002fFear\\u002fHorror\",\" \\u002fLove\\u002fLust\",\" \\u002fSadness\\u002fNeglect\",\" \\u002fSadness\\u002fNeglect\",\" \\u002fSadness\\u002fNeglect\",\" \\u002fAnger\\u002fEnvy\",\" \\u002fJoy\\u002fCheerfulness\",\" \\u002fJoy\\u002fCheerfulness\",\" \\u002fJoy\\u002fCheerfulness\",\" \\u002fJoy\\u002fCheerfulness\",\" \\u002fLove\\u002fAffection\",\" \\u002fAnger\\u002fDisgust\",\" \\u002fSadness\\u002fNeglect\",\" \\u002fSadness\\u002fSadness\",\" \\u002fSadness\\u002fSadness\",\" \\u002fSadness\\u002fSympathy\",\" \\u002fFear\\u002fHorror\",\" \\u002fAnger\\u002fRage\",\" \\u002fFear\\u002fHorror\",\" \\u002fLove\\u002fLust\",\" \\u002fSadness\\u002fSympathy\",\" \\u002fJoy\\u002fContentment\",\" \\u002fJoy\\u002fEnthrallment\",\" \\u002fSadness\\u002fShame\",\" \\u002fSadness\\u002fNeglect\",\" \\u002fJoy\\u002fRelief\",\" \\u002fSadness\\u002fShame\",\" \\u002fAnger\\u002fRage\",\" \\u002fAnger\\u002fDisgust\",\" \\u002fJoy\\u002fCheerfulness\",\" \\u002fAnger\\u002fRage\",\" \\u002fLove\\u002fAffection\",\" \\u002fFear\\u002fHorror\",\" \\u002fSadness\\u002fSadness\",\" \\u002fSurprise\\u002fOvercome\",\" \\u002fAnger\\u002fRage\",\" \\u002fFear\\u002fNervousness\",\" \\u002fSadness\\u002fSympathy\",\" \\u002fLove\\u002fAffection\",\" \\u002fFear\\u002fHorror\",\" \\u002fJoy\\u002fZest\",\" \\u002fAnger\\u002fTorment\",\" \\u002fJoy\\u002fPride\",\" \\u002fFear\\u002fNervousness\",\" \\u002fSadness\\u002fSadness\",\" \\u002fAnger\\u002fRage\",\" \\u002fSadness\\u002fSadness\",\" \\u002fFear\\u002fNervousness\",\" \\u002fAnger\\u002fRage\",\" \\u002fLove\\u002fLonging\",\" \\u002fJoy\\u002fZest\",\" \\u002fLove\",\" \\u002fSurprise\",\" \\u002fJoy\",\" \\u002fJoy\",\" \\u002fSadness\",\" \\u002fAnger\",\" \\u002fJoy\",\" \\u002fAnger\",\" \\u002fAnger\",\" \\u002fFear\",\" \\u002fAnger\",\" \\u002fLove\",\" \\u002fLove\",\" \\u002fSadness\",\" \\u002fFear\",\" \\u002fJoy\",\" \\u002fSurprise\",\" \\u002fJoy\",\" \\u002fAnger\",\" \\u002fJoy\",\" \\u002fSadness\",\" \\u002fSadness\",\" \\u002fSadness\",\" \\u002fSadness\",\" \\u002fAnger\",\" \\u002fJoy\",\" \",\" \",\" \",\" \",\" \",\" \",\"\"],\"values\":[1,1,1,1,1,1,1,1,1,1,1,1,1,1,1,1,1,1,1,1,1,1,1,1,1,1,1,1,1,1,1,1,1,1,1,1,1,1,1,1,1,1,1,1,1,1,1,1,1,1,1,1,1,1,1,1,1,1,1,1,1,1,1,1,1,1,1,1,1,1,1,1,1,1,1,1,1,1,1,1,1,1,1,1,1,1,1,1,1,1,1,1,1,1,1,1,1,1,1,1,1,1,1,1,1,1,1,1,1,1,1,1,1,1,1,1,1,1,8,2,16,1,2,3,2,1,1,9,6,2,3,11,7,2,2,1,13,1,10,3,3,3,1,5,25,16,28,13,32,4,118],\"type\":\"sunburst\"}],                        {\"template\":{\"data\":{\"histogram2dcontour\":[{\"type\":\"histogram2dcontour\",\"colorbar\":{\"outlinewidth\":0,\"ticks\":\"\"},\"colorscale\":[[0.0,\"#0d0887\"],[0.1111111111111111,\"#46039f\"],[0.2222222222222222,\"#7201a8\"],[0.3333333333333333,\"#9c179e\"],[0.4444444444444444,\"#bd3786\"],[0.5555555555555556,\"#d8576b\"],[0.6666666666666666,\"#ed7953\"],[0.7777777777777778,\"#fb9f3a\"],[0.8888888888888888,\"#fdca26\"],[1.0,\"#f0f921\"]]}],\"choropleth\":[{\"type\":\"choropleth\",\"colorbar\":{\"outlinewidth\":0,\"ticks\":\"\"}}],\"histogram2d\":[{\"type\":\"histogram2d\",\"colorbar\":{\"outlinewidth\":0,\"ticks\":\"\"},\"colorscale\":[[0.0,\"#0d0887\"],[0.1111111111111111,\"#46039f\"],[0.2222222222222222,\"#7201a8\"],[0.3333333333333333,\"#9c179e\"],[0.4444444444444444,\"#bd3786\"],[0.5555555555555556,\"#d8576b\"],[0.6666666666666666,\"#ed7953\"],[0.7777777777777778,\"#fb9f3a\"],[0.8888888888888888,\"#fdca26\"],[1.0,\"#f0f921\"]]}],\"heatmap\":[{\"type\":\"heatmap\",\"colorbar\":{\"outlinewidth\":0,\"ticks\":\"\"},\"colorscale\":[[0.0,\"#0d0887\"],[0.1111111111111111,\"#46039f\"],[0.2222222222222222,\"#7201a8\"],[0.3333333333333333,\"#9c179e\"],[0.4444444444444444,\"#bd3786\"],[0.5555555555555556,\"#d8576b\"],[0.6666666666666666,\"#ed7953\"],[0.7777777777777778,\"#fb9f3a\"],[0.8888888888888888,\"#fdca26\"],[1.0,\"#f0f921\"]]}],\"heatmapgl\":[{\"type\":\"heatmapgl\",\"colorbar\":{\"outlinewidth\":0,\"ticks\":\"\"},\"colorscale\":[[0.0,\"#0d0887\"],[0.1111111111111111,\"#46039f\"],[0.2222222222222222,\"#7201a8\"],[0.3333333333333333,\"#9c179e\"],[0.4444444444444444,\"#bd3786\"],[0.5555555555555556,\"#d8576b\"],[0.6666666666666666,\"#ed7953\"],[0.7777777777777778,\"#fb9f3a\"],[0.8888888888888888,\"#fdca26\"],[1.0,\"#f0f921\"]]}],\"contourcarpet\":[{\"type\":\"contourcarpet\",\"colorbar\":{\"outlinewidth\":0,\"ticks\":\"\"}}],\"contour\":[{\"type\":\"contour\",\"colorbar\":{\"outlinewidth\":0,\"ticks\":\"\"},\"colorscale\":[[0.0,\"#0d0887\"],[0.1111111111111111,\"#46039f\"],[0.2222222222222222,\"#7201a8\"],[0.3333333333333333,\"#9c179e\"],[0.4444444444444444,\"#bd3786\"],[0.5555555555555556,\"#d8576b\"],[0.6666666666666666,\"#ed7953\"],[0.7777777777777778,\"#fb9f3a\"],[0.8888888888888888,\"#fdca26\"],[1.0,\"#f0f921\"]]}],\"surface\":[{\"type\":\"surface\",\"colorbar\":{\"outlinewidth\":0,\"ticks\":\"\"},\"colorscale\":[[0.0,\"#0d0887\"],[0.1111111111111111,\"#46039f\"],[0.2222222222222222,\"#7201a8\"],[0.3333333333333333,\"#9c179e\"],[0.4444444444444444,\"#bd3786\"],[0.5555555555555556,\"#d8576b\"],[0.6666666666666666,\"#ed7953\"],[0.7777777777777778,\"#fb9f3a\"],[0.8888888888888888,\"#fdca26\"],[1.0,\"#f0f921\"]]}],\"mesh3d\":[{\"type\":\"mesh3d\",\"colorbar\":{\"outlinewidth\":0,\"ticks\":\"\"}}],\"scatter\":[{\"fillpattern\":{\"fillmode\":\"overlay\",\"size\":10,\"solidity\":0.2},\"type\":\"scatter\"}],\"parcoords\":[{\"type\":\"parcoords\",\"line\":{\"colorbar\":{\"outlinewidth\":0,\"ticks\":\"\"}}}],\"scatterpolargl\":[{\"type\":\"scatterpolargl\",\"marker\":{\"colorbar\":{\"outlinewidth\":0,\"ticks\":\"\"}}}],\"bar\":[{\"error_x\":{\"color\":\"#2a3f5f\"},\"error_y\":{\"color\":\"#2a3f5f\"},\"marker\":{\"line\":{\"color\":\"#E5ECF6\",\"width\":0.5},\"pattern\":{\"fillmode\":\"overlay\",\"size\":10,\"solidity\":0.2}},\"type\":\"bar\"}],\"scattergeo\":[{\"type\":\"scattergeo\",\"marker\":{\"colorbar\":{\"outlinewidth\":0,\"ticks\":\"\"}}}],\"scatterpolar\":[{\"type\":\"scatterpolar\",\"marker\":{\"colorbar\":{\"outlinewidth\":0,\"ticks\":\"\"}}}],\"histogram\":[{\"marker\":{\"pattern\":{\"fillmode\":\"overlay\",\"size\":10,\"solidity\":0.2}},\"type\":\"histogram\"}],\"scattergl\":[{\"type\":\"scattergl\",\"marker\":{\"colorbar\":{\"outlinewidth\":0,\"ticks\":\"\"}}}],\"scatter3d\":[{\"type\":\"scatter3d\",\"line\":{\"colorbar\":{\"outlinewidth\":0,\"ticks\":\"\"}},\"marker\":{\"colorbar\":{\"outlinewidth\":0,\"ticks\":\"\"}}}],\"scattermapbox\":[{\"type\":\"scattermapbox\",\"marker\":{\"colorbar\":{\"outlinewidth\":0,\"ticks\":\"\"}}}],\"scatterternary\":[{\"type\":\"scatterternary\",\"marker\":{\"colorbar\":{\"outlinewidth\":0,\"ticks\":\"\"}}}],\"scattercarpet\":[{\"type\":\"scattercarpet\",\"marker\":{\"colorbar\":{\"outlinewidth\":0,\"ticks\":\"\"}}}],\"carpet\":[{\"aaxis\":{\"endlinecolor\":\"#2a3f5f\",\"gridcolor\":\"white\",\"linecolor\":\"white\",\"minorgridcolor\":\"white\",\"startlinecolor\":\"#2a3f5f\"},\"baxis\":{\"endlinecolor\":\"#2a3f5f\",\"gridcolor\":\"white\",\"linecolor\":\"white\",\"minorgridcolor\":\"white\",\"startlinecolor\":\"#2a3f5f\"},\"type\":\"carpet\"}],\"table\":[{\"cells\":{\"fill\":{\"color\":\"#EBF0F8\"},\"line\":{\"color\":\"white\"}},\"header\":{\"fill\":{\"color\":\"#C8D4E3\"},\"line\":{\"color\":\"white\"}},\"type\":\"table\"}],\"barpolar\":[{\"marker\":{\"line\":{\"color\":\"#E5ECF6\",\"width\":0.5},\"pattern\":{\"fillmode\":\"overlay\",\"size\":10,\"solidity\":0.2}},\"type\":\"barpolar\"}],\"pie\":[{\"automargin\":true,\"type\":\"pie\"}]},\"layout\":{\"autotypenumbers\":\"strict\",\"colorway\":[\"#636efa\",\"#EF553B\",\"#00cc96\",\"#ab63fa\",\"#FFA15A\",\"#19d3f3\",\"#FF6692\",\"#B6E880\",\"#FF97FF\",\"#FECB52\"],\"font\":{\"color\":\"#2a3f5f\"},\"hovermode\":\"closest\",\"hoverlabel\":{\"align\":\"left\"},\"paper_bgcolor\":\"white\",\"plot_bgcolor\":\"#E5ECF6\",\"polar\":{\"bgcolor\":\"#E5ECF6\",\"angularaxis\":{\"gridcolor\":\"white\",\"linecolor\":\"white\",\"ticks\":\"\"},\"radialaxis\":{\"gridcolor\":\"white\",\"linecolor\":\"white\",\"ticks\":\"\"}},\"ternary\":{\"bgcolor\":\"#E5ECF6\",\"aaxis\":{\"gridcolor\":\"white\",\"linecolor\":\"white\",\"ticks\":\"\"},\"baxis\":{\"gridcolor\":\"white\",\"linecolor\":\"white\",\"ticks\":\"\"},\"caxis\":{\"gridcolor\":\"white\",\"linecolor\":\"white\",\"ticks\":\"\"}},\"coloraxis\":{\"colorbar\":{\"outlinewidth\":0,\"ticks\":\"\"}},\"colorscale\":{\"sequential\":[[0.0,\"#0d0887\"],[0.1111111111111111,\"#46039f\"],[0.2222222222222222,\"#7201a8\"],[0.3333333333333333,\"#9c179e\"],[0.4444444444444444,\"#bd3786\"],[0.5555555555555556,\"#d8576b\"],[0.6666666666666666,\"#ed7953\"],[0.7777777777777778,\"#fb9f3a\"],[0.8888888888888888,\"#fdca26\"],[1.0,\"#f0f921\"]],\"sequentialminus\":[[0.0,\"#0d0887\"],[0.1111111111111111,\"#46039f\"],[0.2222222222222222,\"#7201a8\"],[0.3333333333333333,\"#9c179e\"],[0.4444444444444444,\"#bd3786\"],[0.5555555555555556,\"#d8576b\"],[0.6666666666666666,\"#ed7953\"],[0.7777777777777778,\"#fb9f3a\"],[0.8888888888888888,\"#fdca26\"],[1.0,\"#f0f921\"]],\"diverging\":[[0,\"#8e0152\"],[0.1,\"#c51b7d\"],[0.2,\"#de77ae\"],[0.3,\"#f1b6da\"],[0.4,\"#fde0ef\"],[0.5,\"#f7f7f7\"],[0.6,\"#e6f5d0\"],[0.7,\"#b8e186\"],[0.8,\"#7fbc41\"],[0.9,\"#4d9221\"],[1,\"#276419\"]]},\"xaxis\":{\"gridcolor\":\"white\",\"linecolor\":\"white\",\"ticks\":\"\",\"title\":{\"standoff\":15},\"zerolinecolor\":\"white\",\"automargin\":true,\"zerolinewidth\":2},\"yaxis\":{\"gridcolor\":\"white\",\"linecolor\":\"white\",\"ticks\":\"\",\"title\":{\"standoff\":15},\"zerolinecolor\":\"white\",\"automargin\":true,\"zerolinewidth\":2},\"scene\":{\"xaxis\":{\"backgroundcolor\":\"#E5ECF6\",\"gridcolor\":\"white\",\"linecolor\":\"white\",\"showbackground\":true,\"ticks\":\"\",\"zerolinecolor\":\"white\",\"gridwidth\":2},\"yaxis\":{\"backgroundcolor\":\"#E5ECF6\",\"gridcolor\":\"white\",\"linecolor\":\"white\",\"showbackground\":true,\"ticks\":\"\",\"zerolinecolor\":\"white\",\"gridwidth\":2},\"zaxis\":{\"backgroundcolor\":\"#E5ECF6\",\"gridcolor\":\"white\",\"linecolor\":\"white\",\"showbackground\":true,\"ticks\":\"\",\"zerolinecolor\":\"white\",\"gridwidth\":2}},\"shapedefaults\":{\"line\":{\"color\":\"#2a3f5f\"}},\"annotationdefaults\":{\"arrowcolor\":\"#2a3f5f\",\"arrowhead\":0,\"arrowwidth\":1},\"geo\":{\"bgcolor\":\"white\",\"landcolor\":\"#E5ECF6\",\"subunitcolor\":\"white\",\"showland\":true,\"showlakes\":true,\"lakecolor\":\"white\"},\"title\":{\"x\":0.05},\"mapbox\":{\"style\":\"light\"}}},\"legend\":{\"tracegroupgap\":0},\"margin\":{\"t\":60}},                        {\"responsive\": true}                    ).then(function(){\n",
              "                            \n",
              "var gd = document.getElementById('b11a1cfc-5d10-4dfa-92b9-21b9a150d0e7');\n",
              "var x = new MutationObserver(function (mutations, observer) {{\n",
              "        var display = window.getComputedStyle(gd).display;\n",
              "        if (!display || display === 'none') {{\n",
              "            console.log([gd, 'removed!']);\n",
              "            Plotly.purge(gd);\n",
              "            observer.disconnect();\n",
              "        }}\n",
              "}});\n",
              "\n",
              "// Listen for the removal of the full notebook cells\n",
              "var notebookContainer = gd.closest('#notebook-container');\n",
              "if (notebookContainer) {{\n",
              "    x.observe(notebookContainer, {childList: true});\n",
              "}}\n",
              "\n",
              "// Listen for the clearing of the current output cell\n",
              "var outputEl = gd.closest('.output');\n",
              "if (outputEl) {{\n",
              "    x.observe(outputEl, {childList: true});\n",
              "}}\n",
              "\n",
              "                        })                };                            </script>        </div>\n",
              "</body>\n",
              "</html>"
            ]
          },
          "metadata": {}
        }
      ],
      "source": [
        "# Create interactive sunburst plot\n",
        "fig = px.sunburst(data_frame=df,\n",
        "                  path=[\"Emotion\", \"Primary emotion\", \"Secondary emotion\", \"Tertiary emotion\"])\n",
        "fig.show()"
      ]
    }
  ],
  "metadata": {
    "colab": {
      "provenance": []
    },
    "kernelspec": {
      "display_name": "Python 3",
      "name": "python3"
    },
    "language_info": {
      "name": "python"
    }
  },
  "nbformat": 4,
  "nbformat_minor": 0
}